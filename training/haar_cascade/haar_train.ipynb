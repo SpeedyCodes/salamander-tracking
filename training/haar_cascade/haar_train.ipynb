{
 "cells": [
  {
   "cell_type": "markdown",
   "id": "503533e3734649a4",
   "metadata": {
    "collapsed": false
   },
   "source": [
    "### prerequisites:\n",
    "- get precompiled opencv training binaries from https://sourceforge.net/projects/opencvlibrary/files/3.4.16/opencv-3.4.16-vc14_vc15.exe/download\n",
    "    - in extracted folder \\opencv\\build\\x64\\vc15\\bin\n",
    "        - opencv_createsamples.exe\n",
    "        - opencv_traincascade.exe\n",
    "- positive images, in annotation txt\n",
    "- negative images\n",
    "\n",
    "### docs & info:\n",
    "- https://docs.opencv.org/4.10.0/dc/d88/tutorial_traincascade.html\n",
    "- https://www.youtube.com/watch?v=XrCAvs9AePM\n"
   ]
  },
  {
   "cell_type": "code",
   "execution_count": 2,
   "id": "initial_id",
   "metadata": {
    "ExecuteTime": {
     "end_time": "2024-07-15T14:22:47.410306400Z",
     "start_time": "2024-07-15T14:22:47.405900900Z"
    }
   },
   "outputs": [],
   "source": [
    "# generate the file with negative images\n",
    "import os\n",
    "with open('neg.txt', 'w') as f:\n",
    "    # loop over all the filenames\n",
    "    for filename in os.listdir('negative/croccy'):\n",
    "        f.write('negative/croccy/' + filename + '\\n')"
   ]
  },
  {
   "cell_type": "code",
   "outputs": [
    {
     "name": "stderr",
     "output_type": "stream",
     "text": [
      "C:\\Program Files\\Python311\\Lib\\subprocess.py:1014: RuntimeWarning: line buffering (buffering=1) isn't supported in binary mode, the default buffer size will be used\n",
      "  self.stdout = io.open(c2pread, 'rb', bufsize)\n"
     ]
    },
    {
     "name": "stdout",
     "output_type": "stream",
     "text": [
      "Info file name: anno.txt\n",
      "Img file name: (NULL)\n",
      "Vec file name: positive_samples\n",
      "BG  file name: (NULL)\n",
      "Num: 160\n",
      "BG color: 0\n",
      "BG threshold: 80\n",
      "Invert: FALSE\n",
      "Max intensity deviation: 40\n",
      "Max x angle: 1.1\n",
      "Max y angle: 1.1\n",
      "Max z angle: 0.5\n",
      "Show samples: TRUE\n",
      "Scale: 4\n",
      "Width: 24\n",
      "Height: 24\n",
      "Max Scale: -1\n",
      "RNG Seed: 12345\n",
      "Create training samples from images collection...\n",
      "Done. Created 160 samples\n"
     ]
    }
   ],
   "source": [
    "# generate the file with positive samples\n",
    "from subprocess import Popen, PIPE, STDOUT\n",
    "from IPython.core.magic import register_line_magic\n",
    "@register_line_magic\n",
    "def runrealcmd(command):\n",
    "    process = Popen(command, stdout=PIPE, shell=True, stderr=STDOUT, bufsize=1, close_fds=True)\n",
    "    for line in iter(process.stdout.readline, b''):\n",
    "        print(line.rstrip().decode('utf-8'))\n",
    "    process.stdout.close()\n",
    "    process.wait()\n",
    "\n",
    "runrealcmd(\"bins\\opencv_createsamples.exe -vec positive_samples -info anno.txt -num 160 -show -w 24 -h 24\")"
   ],
   "metadata": {
    "collapsed": false,
    "ExecuteTime": {
     "end_time": "2024-07-15T15:20:18.874896500Z",
     "start_time": "2024-07-15T15:19:54.665319100Z"
    }
   },
   "id": "a997917e5ce56e7c",
   "execution_count": 2
  },
  {
   "cell_type": "code",
   "outputs": [
    {
     "name": "stdout",
     "output_type": "stream",
     "text": [
      "---------------------------------------------------------------------------------\n",
      "Training parameters are pre-loaded from the parameter file in data folder!\n",
      "Please empty this folder if you want to use a NEW set of training parameters.\n",
      "---------------------------------------------------------------------------------\n",
      "PARAMETERS:\n",
      "cascadeDirName: cascade/\n",
      "vecFileName: positive_samples\n",
      "bgFileName: neg.txt\n",
      "numPos: 160\n",
      "numNeg: 160\n",
      "numStages: 10\n",
      "precalcValBufSize[Mb] : 1024\n",
      "precalcIdxBufSize[Mb] : 1024\n",
      "acceptanceRatioBreakValue : -1\n",
      "stageType: BOOST\n",
      "featureType: HAAR\n",
      "sampleWidth: 24\n",
      "sampleHeight: 24\n",
      "boostType: GAB\n",
      "minHitRate: 0.995\n",
      "maxFalseAlarmRate: 0.5\n",
      "weightTrimRate: 0.95\n",
      "maxDepth: 1\n",
      "maxWeakCount: 100\n",
      "mode: BASIC\n",
      "Number of unique features given windowSize [24,24] : 162336\n",
      "\n",
      "Stages 0-9 are loaded\n"
     ]
    }
   ],
   "source": [
    "# do the actual training\n",
    "\n",
    "runrealcmd(\"bins\\opencv_traincascade.exe -data cascade/ -vec positive_samples -bg neg.txt -numPos 160 -numNeg 160 -numStages 10 -w 24 -h 24 -precalcValBufSize 1024 -precalcIdxBufSize 1024 -featureType HAAR -minHitRate 0.999 -maxFalseAlarmRate 0.5 -mode ALL\")"
   ],
   "metadata": {
    "collapsed": false,
    "ExecuteTime": {
     "end_time": "2024-07-15T15:20:23.184567600Z",
     "start_time": "2024-07-15T15:20:23.083829800Z"
    }
   },
   "id": "695da6454d9318da",
   "execution_count": 3
  },
  {
   "cell_type": "code",
   "outputs": [],
   "source": [],
   "metadata": {
    "collapsed": false
   },
   "id": "24f55c49d52bc1a4"
  }
 ],
 "metadata": {
  "kernelspec": {
   "display_name": "Python 3 (ipykernel)",
   "language": "python",
   "name": "python3"
  },
  "language_info": {
   "codemirror_mode": {
    "name": "ipython",
    "version": 3
   },
   "file_extension": ".py",
   "mimetype": "text/x-python",
   "name": "python",
   "nbconvert_exporter": "python",
   "pygments_lexer": "ipython3",
   "version": "3.11.2"
  }
 },
 "nbformat": 4,
 "nbformat_minor": 5
}
