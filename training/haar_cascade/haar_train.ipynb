{
 "cells": [
  {
   "cell_type": "markdown",
   "id": "503533e3734649a4",
   "metadata": {
    "collapsed": false
   },
   "source": [
    "### prerequisites:\n",
    "- get precompiled opencv training binaries from https://sourceforge.net/projects/opencvlibrary/files/3.4.16/opencv-3.4.16-vc14_vc15.exe/download\n",
    "    - in extracted folder \\opencv\\build\\x64\\vc15\\bin\n",
    "        - opencv_createsamples.exe\n",
    "        - opencv_traincascade.exe\n",
    "- positive images\n",
    "- negative images\n",
    "\n",
    "### docs & info:\n",
    "- https://docs.opencv.org/4.10.0/dc/d88/tutorial_traincascade.html\n",
    "- https://www.youtube.com/watch?v=XrCAvs9AePM\n"
   ]
  },
  {
   "cell_type": "code",
   "outputs": [],
   "source": [
    "# utility to run a command and print the output in real time\n",
    "# https://stackoverflow.com/a/52576723/13823404\n",
    "from subprocess import Popen, PIPE, STDOUT\n",
    "from IPython.core.magic import register_line_magic\n",
    "@register_line_magic\n",
    "def runrealcmd(command):\n",
    "    process = Popen(command, stdout=PIPE, shell=True, stderr=STDOUT, bufsize=1, close_fds=True)\n",
    "    for line in iter(process.stdout.readline, b''):\n",
    "        print(line.rstrip().decode('utf-8'))\n",
    "    process.stdout.close()\n",
    "    process.wait()"
   ],
   "metadata": {
    "collapsed": false,
    "ExecuteTime": {
     "end_time": "2024-07-17T15:22:22.362737700Z",
     "start_time": "2024-07-17T15:22:22.360865Z"
    }
   },
   "id": "4f7a1a65337b9d61",
   "execution_count": 3
  },
  {
   "cell_type": "code",
   "execution_count": 1,
   "id": "initial_id",
   "metadata": {
    "ExecuteTime": {
     "end_time": "2024-07-17T15:16:37.326596100Z",
     "start_time": "2024-07-17T15:16:37.318841100Z"
    }
   },
   "outputs": [],
   "source": [
    "# generate the file with negative images\n",
    "import os\n",
    "with open('neg.txt', 'w') as f:\n",
    "    folders = ['negative/own', 'negative/croccy']\n",
    "    for folder in folders:\n",
    "        for filename in os.listdir(folder):\n",
    "            f.write(f'{folder}/{filename}\\n')"
   ]
  },
  {
   "cell_type": "code",
   "outputs": [
    {
     "name": "stdout",
     "output_type": "stream",
     "text": [
      "* mark rectangles with the left mouse button,\n",
      "* press 'c' to accept a selection,\n",
      "* press 'd' to delete the latest selection,\n",
      "* press 'n' to proceed with next image,\n",
      "* press 'esc' to stop.\n"
     ]
    }
   ],
   "source": [
    "# annotate the positive images\n",
    "input_path = \"D:/School/UAntwerpen/Honours/Salamander/salamander-tracking/input/Universiteit Antwerpen/Rune De Coninck - Foto's\"\n",
    "for year in ['2018', '2019', '2021', '2022', '2024']:\n",
    "    runrealcmd(f'opencv_annotation.exe --annotations=annotations/anno_{year}.txt -i=\"{input_path}/{year}\"')"
   ],
   "metadata": {
    "collapsed": false,
    "ExecuteTime": {
     "end_time": "2024-07-16T12:19:02.368630900Z",
     "start_time": "2024-07-16T12:14:49.926327Z"
    }
   },
   "id": "a3668489133994d3",
   "execution_count": 12
  },
  {
   "cell_type": "code",
   "outputs": [],
   "source": [
    "# merge the annotations\n",
    "with open('merged_annotations.txt', 'w') as f:\n",
    "    # loop over all the filenames\n",
    "    for filename in os.listdir('annotations'):\n",
    "        if filename.startswith('anno_'):\n",
    "            with open(f'annotations/{filename}', 'r') as f2:\n",
    "                f.write(f2.read())"
   ],
   "metadata": {
    "collapsed": false,
    "ExecuteTime": {
     "end_time": "2024-07-16T12:21:00.218914500Z",
     "start_time": "2024-07-16T12:21:00.214804500Z"
    }
   },
   "id": "a21c225a0af50016",
   "execution_count": 14
  },
  {
   "cell_type": "code",
   "outputs": [
    {
     "name": "stdout",
     "output_type": "stream",
     "text": [
      "Info file name: merged_annotations.txt\n",
      "Img file name: (NULL)\n",
      "Vec file name: positive_samples.dat\n",
      "BG  file name: (NULL)\n",
      "Num: 570\n",
      "BG color: 0\n",
      "BG threshold: 80\n",
      "Invert: FALSE\n",
      "Max intensity deviation: 40\n",
      "Max x angle: 1.1\n",
      "Max y angle: 1.1\n",
      "Max z angle: 0.5\n",
      "Show samples: FALSE\n",
      "Width: 24\n",
      "Height: 24\n",
      "Max Scale: -1\n",
      "RNG Seed: 12345\n",
      "Create training samples from images collection...\n",
      "Done. Created 570 samples\n"
     ]
    }
   ],
   "source": [
    "# generate the file with positive samples\n",
    "runrealcmd(\"bins\\opencv_createsamples.exe -vec positive_samples.dat -info merged_annotations.txt -num 570 -w 24 -h 24\")"
   ],
   "metadata": {
    "collapsed": false,
    "ExecuteTime": {
     "end_time": "2024-07-17T15:39:29.119274Z",
     "start_time": "2024-07-17T15:39:28.615305800Z"
    }
   },
   "id": "a997917e5ce56e7c",
   "execution_count": 42
  },
  {
   "cell_type": "code",
   "outputs": [
    {
     "name": "stdout",
     "output_type": "stream",
     "text": [
      "PARAMETERS:\n",
      "cascadeDirName: cascade/\n",
      "vecFileName: positive_samples.dat\n",
      "bgFileName: neg.txt\n",
      "numPos: 570\n",
      "numNeg: 285\n",
      "numStages: 4\n",
      "precalcValBufSize[Mb] : 4096\n",
      "precalcIdxBufSize[Mb] : 4096\n",
      "acceptanceRatioBreakValue : -1\n",
      "stageType: BOOST\n",
      "featureType: HAAR\n",
      "sampleWidth: 24\n",
      "sampleHeight: 24\n",
      "boostType: GAB\n",
      "minHitRate: 0.999\n",
      "maxFalseAlarmRate: 0.1\n",
      "weightTrimRate: 0.95\n",
      "maxDepth: 1\n",
      "maxWeakCount: 100\n",
      "mode: ALL\n",
      "Number of unique features given windowSize [24,24] : 261600\n",
      "\n",
      "===== TRAINING 0-stage =====\n",
      "<BEGIN\n",
      "POS count : consumed   570 : 570\n",
      "NEG count : acceptanceRatio    285 : 1\n",
      "Precalculation time: 0.83\n",
      "+----+---------+---------+\n",
      "|  N |    HR   |    FA   |\n",
      "+----+---------+---------+\n",
      "|   1|        1|        1|\n",
      "+----+---------+---------+\n",
      "|   2|        1|        1|\n",
      "+----+---------+---------+\n",
      "|   3|        1| 0.105263|\n",
      "+----+---------+---------+\n",
      "|   4|        1|0.0280702|\n",
      "+----+---------+---------+\n",
      "END>\n",
      "Training until now has taken 0 days 0 hours 0 minutes 4 seconds.\n",
      "\n",
      "===== TRAINING 1-stage =====\n",
      "<BEGIN\n",
      "POS count : consumed   570 : 570\n",
      "NEG count : acceptanceRatio    285 : 0.0219636\n",
      "Precalculation time: 0.701\n",
      "+----+---------+---------+\n",
      "|  N |    HR   |    FA   |\n",
      "+----+---------+---------+\n",
      "|   1|        1|        1|\n",
      "+----+---------+---------+\n",
      "|   2|        1| 0.185965|\n",
      "+----+---------+---------+\n",
      "|   3|        1| 0.168421|\n",
      "+----+---------+---------+\n",
      "|   4|        1|0.0807018|\n",
      "+----+---------+---------+\n",
      "END>\n",
      "Training until now has taken 0 days 0 hours 0 minutes 7 seconds.\n",
      "\n",
      "===== TRAINING 2-stage =====\n",
      "<BEGIN\n",
      "POS count : consumed   570 : 570\n",
      "NEG count : acceptanceRatio    285 : 0.0118351\n",
      "Precalculation time: 0.705\n",
      "+----+---------+---------+\n",
      "|  N |    HR   |    FA   |\n",
      "+----+---------+---------+\n",
      "|   1|        1|        1|\n",
      "+----+---------+---------+\n",
      "|   2|        1|        1|\n",
      "+----+---------+---------+\n",
      "|   3|        1| 0.294737|\n",
      "+----+---------+---------+\n",
      "|   4|        1| 0.129825|\n",
      "+----+---------+---------+\n",
      "|   5|        1|  0.14386|\n",
      "+----+---------+---------+\n",
      "|   6|        1| 0.112281|\n",
      "+----+---------+---------+\n",
      "|   7|        1|0.0491228|\n",
      "+----+---------+---------+\n",
      "END>\n",
      "Training until now has taken 0 days 0 hours 0 minutes 15 seconds.\n",
      "\n",
      "===== TRAINING 3-stage =====\n",
      "<BEGIN\n",
      "POS count : consumed   570 : 570\n",
      "NEG count : acceptanceRatio    285 : 0.00131214\n",
      "Precalculation time: 0.703\n",
      "+----+---------+---------+\n",
      "|  N |    HR   |    FA   |\n",
      "+----+---------+---------+\n",
      "|   1|        1|        1|\n",
      "+----+---------+---------+\n",
      "|   2|        1|        1|\n",
      "+----+---------+---------+\n",
      "|   3|        1|      0.8|\n",
      "+----+---------+---------+\n",
      "|   4|        1|      0.8|\n",
      "+----+---------+---------+\n",
      "|   5|        1| 0.677193|\n",
      "+----+---------+---------+\n",
      "|   6|        1| 0.414035|\n",
      "+----+---------+---------+\n",
      "|   7|        1| 0.575439|\n",
      "+----+---------+---------+\n",
      "|   8|        1| 0.431579|\n",
      "+----+---------+---------+\n",
      "|   9|        1| 0.357895|\n",
      "+----+---------+---------+\n",
      "|  10|        1| 0.382456|\n",
      "+----+---------+---------+\n",
      "|  11|        1|      0.2|\n",
      "+----+---------+---------+\n",
      "|  12|        1| 0.147368|\n",
      "+----+---------+---------+\n",
      "|  13|        1|0.0982456|\n",
      "+----+---------+---------+\n",
      "END>\n",
      "Training until now has taken 0 days 0 hours 0 minutes 33 seconds.\n"
     ]
    }
   ],
   "source": [
    "# do the actual training\n",
    "# clear previous cascade folder\n",
    "runrealcmd(\"rmdir /s /q cascade\")\n",
    "runrealcmd(\"mkdir cascade\")\n",
    "runrealcmd(\"bins\\opencv_traincascade.exe -data cascade/ -vec positive_samples.dat -bg neg.txt -numPos 570 -numNeg 285 -numStages 4 -w 24 -h 24 -precalcValBufSize 4096 -precalcIdxBufSize 4096 -featureType HAAR -minHitRate 0.999 -maxFalseAlarmRate 0.1 -mode ALL\")"
   ],
   "metadata": {
    "collapsed": false,
    "ExecuteTime": {
     "end_time": "2024-07-17T16:13:33.239787300Z",
     "start_time": "2024-07-17T16:12:59.787279200Z"
    }
   },
   "id": "695da6454d9318da",
   "execution_count": 53
  },
  {
   "cell_type": "code",
   "outputs": [],
   "source": [],
   "metadata": {
    "collapsed": false
   },
   "id": "24f55c49d52bc1a4"
  }
 ],
 "metadata": {
  "kernelspec": {
   "display_name": "Python 3 (ipykernel)",
   "language": "python",
   "name": "python3"
  },
  "language_info": {
   "codemirror_mode": {
    "name": "ipython",
    "version": 3
   },
   "file_extension": ".py",
   "mimetype": "text/x-python",
   "name": "python",
   "nbconvert_exporter": "python",
   "pygments_lexer": "ipython3",
   "version": "3.11.2"
  }
 },
 "nbformat": 4,
 "nbformat_minor": 5
}
