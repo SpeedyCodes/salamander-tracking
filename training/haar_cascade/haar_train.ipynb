{
 "cells": [
  {
   "cell_type": "markdown",
   "id": "503533e3734649a4",
   "metadata": {
    "collapsed": false
   },
   "source": [
    "### prerequisites:\n",
    "- get precompiled opencv training binaries from https://sourceforge.net/projects/opencvlibrary/files/3.4.16/opencv-3.4.16-vc14_vc15.exe/download\n",
    "    - in extracted folder \\opencv\\build\\x64\\vc15\\bin\n",
    "        - opencv_createsamples.exe\n",
    "        - opencv_traincascade.exe\n",
    "- positive images\n",
    "- negative images\n",
    "\n",
    "### docs & info:\n",
    "- https://docs.opencv.org/4.10.0/dc/d88/tutorial_traincascade.html\n",
    "- https://www.youtube.com/watch?v=XrCAvs9AePM\n"
   ]
  },
  {
   "cell_type": "code",
   "outputs": [],
   "source": [
    "# utility to run a command and print the output in real time\n",
    "# https://stackoverflow.com/a/52576723/13823404\n",
    "from subprocess import Popen, PIPE, STDOUT\n",
    "from IPython.core.magic import register_line_magic\n",
    "@register_line_magic\n",
    "def runrealcmd(command):\n",
    "    process = Popen(command, stdout=PIPE, shell=True, stderr=STDOUT, bufsize=1, close_fds=True)\n",
    "    for line in iter(process.stdout.readline, b''):\n",
    "        print(line.rstrip().decode('utf-8'))\n",
    "    process.stdout.close()\n",
    "    process.wait()"
   ],
   "metadata": {
    "collapsed": false,
    "ExecuteTime": {
     "end_time": "2024-08-04T19:41:39.283269Z",
     "start_time": "2024-08-04T19:41:39.280268Z"
    }
   },
   "id": "4f7a1a65337b9d61",
   "execution_count": 2
  },
  {
   "cell_type": "code",
   "execution_count": 20,
   "id": "initial_id",
   "metadata": {
    "ExecuteTime": {
     "end_time": "2024-08-04T20:34:33.412337300Z",
     "start_time": "2024-08-04T20:34:33.408332100Z"
    }
   },
   "outputs": [],
   "source": [
    "# generate the file with negative images\n",
    "import os\n",
    "with open('neg.txt', 'w') as f:\n",
    "    folders = ['negative/own', 'negative/Garbage_Collective_Data/biological']\n",
    "    for folder in folders:\n",
    "        for filename in os.listdir(folder):\n",
    "            f.write(f'{folder}/{filename}\\n')"
   ]
  },
  {
   "cell_type": "code",
   "outputs": [
    {
     "name": "stdout",
     "output_type": "stream",
     "text": [
      "* mark rectangles with the left mouse button,\n",
      "* press 'c' to accept a selection,\n",
      "* press 'd' to delete the latest selection,\n",
      "* press 'n' to proceed with next image,\n",
      "* press 'esc' to stop.\n"
     ]
    }
   ],
   "source": [
    "# annotate the positive images\n",
    "input_path = \"D:/School/UAntwerpen/Honours/Salamander/salamander-tracking/input/Universiteit Antwerpen/Rune De Coninck - Foto's\"\n",
    "for year in ['2018', '2019', '2021', '2022', '2024']:\n",
    "    runrealcmd(f'opencv_annotation.exe --annotations=annotations/anno_{year}.txt -i=\"{input_path}/{year}\"')"
   ],
   "metadata": {
    "collapsed": false,
    "ExecuteTime": {
     "end_time": "2024-07-16T12:19:02.368630900Z",
     "start_time": "2024-07-16T12:14:49.926327Z"
    }
   },
   "id": "a3668489133994d3",
   "execution_count": 12
  },
  {
   "cell_type": "code",
   "outputs": [],
   "source": [
    "# merge the annotations\n",
    "with open('merged_annotations.txt', 'w') as f:\n",
    "    # loop over all the filenames\n",
    "    for filename in os.listdir('annotations'):\n",
    "        if filename.startswith('anno_'):\n",
    "            with open(f'annotations/{filename}', 'r') as f2:\n",
    "                f.write(f2.read())"
   ],
   "metadata": {
    "collapsed": false,
    "ExecuteTime": {
     "end_time": "2024-07-16T12:21:00.218914500Z",
     "start_time": "2024-07-16T12:21:00.214804500Z"
    }
   },
   "id": "a21c225a0af50016",
   "execution_count": 14
  },
  {
   "cell_type": "code",
   "outputs": [
    {
     "name": "stdout",
     "output_type": "stream",
     "text": [
      "Info file name: merged_annotations.txt\n",
      "Img file name: (NULL)\n",
      "Vec file name: positive_samples.dat\n",
      "BG  file name: (NULL)\n",
      "Num: 570\n",
      "BG color: 0\n",
      "BG threshold: 80\n",
      "Invert: FALSE\n",
      "Max intensity deviation: 40\n",
      "Max x angle: 1.1\n",
      "Max y angle: 1.1\n",
      "Max z angle: 0.5\n",
      "Show samples: FALSE\n",
      "Width: 20\n",
      "Height: 20\n",
      "Max Scale: -1\n",
      "RNG Seed: 12345\n",
      "Create training samples from images collection...\n",
      "Done. Created 570 samples\n"
     ]
    }
   ],
   "source": [
    "# generate the file with positive samples\n",
    "runrealcmd(\"bins\\opencv_createsamples.exe -vec positive_samples.dat -info merged_annotations.txt -num 570 -w 20 -h 20\")"
   ],
   "metadata": {
    "collapsed": false,
    "ExecuteTime": {
     "end_time": "2024-08-04T20:32:19.847913600Z",
     "start_time": "2024-08-04T20:32:19.328366100Z"
    }
   },
   "id": "a997917e5ce56e7c",
   "execution_count": 18
  },
  {
   "cell_type": "code",
   "outputs": [
    {
     "name": "stdout",
     "output_type": "stream",
     "text": [
      "PARAMETERS:\n",
      "cascadeDirName: cascade/\n",
      "vecFileName: positive_samples.dat\n",
      "bgFileName: neg.txt\n",
      "numPos: 300\n",
      "numNeg: 150\n",
      "numStages: 4\n",
      "precalcValBufSize[Mb] : 4096\n",
      "precalcIdxBufSize[Mb] : 4096\n",
      "acceptanceRatioBreakValue : -1\n",
      "stageType: BOOST\n",
      "featureType: HAAR\n",
      "sampleWidth: 20\n",
      "sampleHeight: 20\n",
      "boostType: GAB\n",
      "minHitRate: 0.999\n",
      "maxFalseAlarmRate: 0.1\n",
      "weightTrimRate: 0.95\n",
      "maxDepth: 1\n",
      "maxWeakCount: 100\n",
      "mode: ALL\n",
      "Number of unique features given windowSize [20,20] : 125199\n",
      "\n",
      "===== TRAINING 0-stage =====\n",
      "<BEGIN\n",
      "POS count : consumed   300 : 300\n",
      "NEG count : acceptanceRatio    150 : 1\n",
      "Precalculation time: 0.158\n",
      "+----+---------+---------+\n",
      "|  N |    HR   |    FA   |\n",
      "+----+---------+---------+\n",
      "|   1|        1|        1|\n",
      "+----+---------+---------+\n",
      "|   2|        1|0.0933333|\n",
      "+----+---------+---------+\n",
      "END>\n",
      "Training until now has taken 0 days 0 hours 0 minutes 0 seconds.\n",
      "\n",
      "===== TRAINING 1-stage =====\n",
      "<BEGIN\n",
      "POS count : consumed   300 : 300\n",
      "NEG count : acceptanceRatio    150 : 0.0487329\n",
      "Precalculation time: 0.159\n",
      "+----+---------+---------+\n",
      "|  N |    HR   |    FA   |\n",
      "+----+---------+---------+\n",
      "|   1|        1|        1|\n",
      "+----+---------+---------+\n",
      "|   2|        1|        1|\n",
      "+----+---------+---------+\n",
      "|   3|        1|     0.26|\n",
      "+----+---------+---------+\n",
      "|   4|        1|      0.1|\n",
      "+----+---------+---------+\n",
      "END>\n",
      "Training until now has taken 0 days 0 hours 0 minutes 1 seconds.\n",
      "\n",
      "===== TRAINING 2-stage =====\n",
      "<BEGIN\n",
      "POS count : consumed   300 : 300\n",
      "NEG count : acceptanceRatio    150 : 0.00938673\n",
      "Precalculation time: 0.158\n",
      "+----+---------+---------+\n",
      "|  N |    HR   |    FA   |\n",
      "+----+---------+---------+\n",
      "|   1|        1|        1|\n",
      "+----+---------+---------+\n",
      "|   2|        1| 0.326667|\n",
      "+----+---------+---------+\n",
      "|   3|        1| 0.266667|\n",
      "+----+---------+---------+\n",
      "|   4|        1| 0.293333|\n",
      "+----+---------+---------+\n",
      "|   5|        1| 0.226667|\n",
      "+----+---------+---------+\n",
      "|   6|        1| 0.106667|\n",
      "+----+---------+---------+\n",
      "|   7|        1| 0.133333|\n",
      "+----+---------+---------+\n",
      "|   8|        1|     0.04|\n",
      "+----+---------+---------+\n",
      "END>\n",
      "Training until now has taken 0 days 0 hours 0 minutes 3 seconds.\n",
      "\n",
      "===== TRAINING 3-stage =====\n",
      "<BEGIN\n",
      "POS count : consumed   300 : 300\n",
      "NEG count : acceptanceRatio    150 : 0.00587383\n",
      "Precalculation time: 0.159\n",
      "+----+---------+---------+\n",
      "|  N |    HR   |    FA   |\n",
      "+----+---------+---------+\n",
      "|   1|        1|        1|\n",
      "+----+---------+---------+\n",
      "|   2|        1|        1|\n",
      "+----+---------+---------+\n",
      "|   3|        1| 0.506667|\n",
      "+----+---------+---------+\n",
      "|   4|        1| 0.213333|\n",
      "+----+---------+---------+\n",
      "|   5|        1|     0.16|\n",
      "+----+---------+---------+\n",
      "|   6|        1| 0.133333|\n",
      "+----+---------+---------+\n",
      "|   7|        1|     0.06|\n",
      "+----+---------+---------+\n",
      "END>\n",
      "Training until now has taken 0 days 0 hours 0 minutes 5 seconds.\n"
     ]
    }
   ],
   "source": [
    "# do the actual training\n",
    "# clear previous cascade folder\n",
    "runrealcmd(\"rmdir /s /q cascade\")\n",
    "runrealcmd(\"mkdir cascade\")\n",
    "runrealcmd(\"bins\\opencv_traincascade.exe -data cascade/ -vec positive_samples.dat -bg neg.txt -numPos 300 -numNeg 150 -numStages 4 -w 20 -h 20 -precalcValBufSize 4096 -precalcIdxBufSize 4096 -featureType HAAR -minHitRate 0.999 -maxFalseAlarmRate 0.1 -mode ALL\")"
   ],
   "metadata": {
    "collapsed": false,
    "ExecuteTime": {
     "end_time": "2024-08-04T20:39:17.043237600Z",
     "start_time": "2024-08-04T20:39:11.309671500Z"
    }
   },
   "id": "695da6454d9318da",
   "execution_count": 26
  },
  {
   "cell_type": "code",
   "outputs": [],
   "source": [],
   "metadata": {
    "collapsed": false
   },
   "id": "24f55c49d52bc1a4"
  }
 ],
 "metadata": {
  "kernelspec": {
   "display_name": "Python 3 (ipykernel)",
   "language": "python",
   "name": "python3"
  },
  "language_info": {
   "codemirror_mode": {
    "name": "ipython",
    "version": 3
   },
   "file_extension": ".py",
   "mimetype": "text/x-python",
   "name": "python",
   "nbconvert_exporter": "python",
   "pygments_lexer": "ipython3",
   "version": "3.11.2"
  }
 },
 "nbformat": 4,
 "nbformat_minor": 5
}
